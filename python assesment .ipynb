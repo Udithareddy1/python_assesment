{
 "cells": [
  {
   "cell_type": "code",
   "execution_count": 1,
   "id": "d0c9b7f1-ca97-4d82-bb0f-20fc09559ad7",
   "metadata": {},
   "outputs": [],
   "source": [
    "#question 1"
   ]
  },
  {
   "cell_type": "code",
   "execution_count": 3,
   "id": "e205de61-7f41-4e53-956f-3b7a5e0c334f",
   "metadata": {},
   "outputs": [
    {
     "name": "stdin",
     "output_type": "stream",
     "text": [
      "Enter first number: 10\n",
      "Enter second number: 3\n"
     ]
    },
    {
     "name": "stdout",
     "output_type": "stream",
     "text": [
      "Addition: 13.0\n",
      "Subtraction: 7.0\n",
      "Multiplication: 30.0\n",
      "Division: 3.33\n",
      "Modulus: 1.0\n",
      "Exponentiation: 1000.0\n",
      "Floor Division: 3.0\n"
     ]
    }
   ],
   "source": [
    "#Get input from the user\n",
    "num1=float(input(\"Enter first number:\"))\n",
    "num2=float(input(\"Enter second number:\"))\n",
    "# Perform calculations \n",
    "addition = num1 + num2 \n",
    "subtraction = num1 - num2 \n",
    "multiplication = num1 * num2 \n",
    "division = num1 / num2 \n",
    "modulus = num1 % num2 \n",
    "exponentiation = num1 ** num2 \n",
    "floor_division = num1 // num2\n",
    "# Display results \n",
    "print(f\"Addition: {addition}\") \n",
    "print(f\"Subtraction: {subtraction}\") \n",
    "print(f\"Multiplication: {multiplication}\") \n",
    "print(f\"Division: {division:.2f}\")   \n",
    "print(f\"Modulus: {modulus}\") \n",
    "print(f\"Exponentiation: {exponentiation}\") \n",
    "print(f\"Floor Division: {floor_division}\")"
   ]
  },
  {
   "cell_type": "code",
   "execution_count": 5,
   "id": "f3196d66-4f20-4000-a3db-fdced9f9838e",
   "metadata": {},
   "outputs": [],
   "source": [
    "#question 2"
   ]
  },
  {
   "cell_type": "code",
   "execution_count": 7,
   "id": "98975d12-57d7-4ec5-b12b-1b406c848578",
   "metadata": {},
   "outputs": [
    {
     "name": "stdin",
     "output_type": "stream",
     "text": [
      "Enter first number:  23\n",
      "Enter second number:  34\n"
     ]
    },
    {
     "name": "stdout",
     "output_type": "stream",
     "text": [
      "Is the first number greater than the second? False\n",
      "Is the first number equal to the second? False\n",
      "Is the first number less than or equal to the second? True\n"
     ]
    }
   ],
   "source": [
    "# Comparison Operations \n",
    "# Get input from the user \n",
    "num1 = float(input(\"Enter first number: \")) \n",
    "num2 = float(input(\"Enter second number: \")) \n",
    "# Perform comparisons \n",
    "greater_than = num1 > num2 \n",
    "equal_to = num1 == num2 \n",
    "less_than_or_equal = num1 <= num2 \n",
    "# Display results \n",
    "print(f\"Is the first number greater than the second? {greater_than}\") \n",
    "print(f\"Is the first number equal to the second? {equal_to}\") \n",
    "print(f\"Is the first number less than or equal to the second? {less_than_or_equal}\")"
   ]
  },
  {
   "cell_type": "code",
   "execution_count": 9,
   "id": "6c432d2a-5ff1-48cd-b28d-6e9402f68ede",
   "metadata": {},
   "outputs": [],
   "source": [
    "#question 3"
   ]
  },
  {
   "cell_type": "code",
   "execution_count": 11,
   "id": "65218ce1-9c93-4c70-ad15-9ff2a25953ad",
   "metadata": {},
   "outputs": [
    {
     "name": "stdin",
     "output_type": "stream",
     "text": [
      "Enter first boolean value (True/False):  true\n",
      "Enter second boolean value (True/False):  false\n",
      "Enter third boolean value (True/False):  true\n"
     ]
    },
    {
     "name": "stdout",
     "output_type": "stream",
     "text": [
      "AND result: False\n",
      "OR result: False\n",
      "NOT first boolean: True\n",
      "NOT second boolean: True\n",
      "NOT third boolean: True\n"
     ]
    }
   ],
   "source": [
    "# Logical Operations \n",
    "# Get input from the user \n",
    "a = input(\"Enter first boolean value (True/False): \") == 'True' \n",
    "b = input(\"Enter second boolean value (True/False): \") == 'True' \n",
    "c = input(\"Enter third boolean value (True/False): \") == 'True' \n",
    "# Combine boolean values using logical operators \n",
    "and_result = a and b and c \n",
    "or_result = a or b or c \n",
    "not_result1 = not a \n",
    "not_result2 = not b \n",
    "not_result3 = not c \n",
    "# Display results \n",
    "print(f\"AND result: {and_result}\") \n",
    "print(f\"OR result: {or_result}\") \n",
    "print(f\"NOT first boolean: {not_result1}\") \n",
    "print(f\"NOT second boolean: {not_result2}\") \n",
    "print(f\"NOT third boolean: {not_result3}\")"
   ]
  },
  {
   "cell_type": "code",
   "execution_count": 13,
   "id": "01a9c1d3-e804-426c-b056-a114ae49a936",
   "metadata": {},
   "outputs": [],
   "source": [
    "#question 4"
   ]
  },
  {
   "cell_type": "code",
   "execution_count": 15,
   "id": "961edc42-abcd-427a-b930-bb11dd959a6b",
   "metadata": {},
   "outputs": [
    {
     "name": "stdin",
     "output_type": "stream",
     "text": [
      "Enter a string:  uditha\n"
     ]
    },
    {
     "name": "stdout",
     "output_type": "stream",
     "text": [
      "Length of string: 6\n",
      "First character: u\n",
      "Last character: a\n",
      "Reversed string: ahtidu\n",
      "Uppercase string: UDITHA\n",
      "Lowercase string: uditha\n"
     ]
    }
   ],
   "source": [
    " # String Manipulation \n",
    "# Get string input from the user \n",
    "user_string = input(\"Enter a string: \") \n",
    "# Perform string manipulations \n",
    "string_length = len(user_string) \n",
    "first_character = user_string[0] \n",
    "last_character = user_string[-1] \n",
    "reversed_string = user_string[::-1] \n",
    "uppercase_string = user_string.upper() \n",
    "lowercase_string = user_string.lower() \n",
    "# Display results \n",
    "print(f\"Length of string: {string_length}\") \n",
    "print(f\"First character: {first_character}\") \n",
    "print(f\"Last character: {last_character}\") \n",
    "print(f\"Reversed string: {reversed_string}\") \n",
    "print(f\"Uppercase string: {uppercase_string}\") \n",
    "print(f\"Lowercase string: {lowercase_string}\")"
   ]
  },
  {
   "cell_type": "code",
   "execution_count": 17,
   "id": "85b28576-0234-4bb4-b99d-cd30fe1e2447",
   "metadata": {},
   "outputs": [],
   "source": [
    "#question 5"
   ]
  },
  {
   "cell_type": "code",
   "execution_count": 19,
   "id": "ce58d8dd-dc24-4474-a5b2-84f160aa72b8",
   "metadata": {},
   "outputs": [
    {
     "name": "stdin",
     "output_type": "stream",
     "text": [
      "Enter your name:  uditha\n",
      "Enter your age:  21\n"
     ]
    },
    {
     "name": "stdout",
     "output_type": "stream",
     "text": [
      "Hello uditha, you are 21 years old.\n"
     ]
    }
   ],
   "source": [
    "# String Formatting \n",
    "# Get user input for name and age \n",
    "name = input(\"Enter your name: \") \n",
    "age = input(\"Enter your age: \") \n",
    "# Display message \n",
    "print(f\"Hello {name}, you are {age} years old.\")"
   ]
  },
  {
   "cell_type": "code",
   "execution_count": 21,
   "id": "dea59a56-609b-4db8-b3de-bb3a5305c32e",
   "metadata": {},
   "outputs": [],
   "source": [
    "#question 6"
   ]
  },
  {
   "cell_type": "code",
   "execution_count": 23,
   "id": "358a39ec-bed4-4e38-8b6b-302f1374a7f8",
   "metadata": {},
   "outputs": [
    {
     "name": "stdin",
     "output_type": "stream",
     "text": [
      "Enter a sentence:  i am a student of MCA\n",
      "Enter a word to search for:  am\n"
     ]
    },
    {
     "name": "stdout",
     "output_type": "stream",
     "text": [
      "The word 'am' exists in the sentence at index 2.\n"
     ]
    }
   ],
   "source": [
    "# Get input from the user\n",
    "sentence = input(\"Enter a sentence: \")\n",
    "word_to_search = input(\"Enter a word to search for: \")\n",
    "\n",
    "# Check if the word exists in the sentence\n",
    "if word_to_search in sentence:\n",
    "    # Find the index of the word\n",
    "    index = sentence.find(word_to_search)\n",
    "    print(f\"The word '{word_to_search}' exists in the sentence at index {index}.\")\n",
    "else:\n",
    "    print(f\"The word '{word_to_search}' does not exist in the sentence.\")"
   ]
  },
  {
   "cell_type": "code",
   "execution_count": 25,
   "id": "ec780ee9-d885-4e10-994e-15660df9b499",
   "metadata": {},
   "outputs": [],
   "source": [
    "#question 7"
   ]
  },
  {
   "cell_type": "code",
   "execution_count": 27,
   "id": "22556ba2-4d1c-46f4-8039-9521a8ef10ba",
   "metadata": {},
   "outputs": [
    {
     "name": "stdin",
     "output_type": "stream",
     "text": [
      "Enter number 1:  12\n",
      "Enter number 2:  23\n",
      "Enter number 3:  34\n",
      "Enter number 4:  45\n",
      "Enter number 5:  56\n"
     ]
    },
    {
     "name": "stdout",
     "output_type": "stream",
     "text": [
      "List of numbers: [12.0, 23.0, 34.0, 45.0, 56.0]\n",
      "Sum of the numbers: 170.0\n",
      "Largest number: 56.0\n",
      "Smallest number: 12.0\n"
     ]
    }
   ],
   "source": [
    "# Create an empty list to store the numbers\n",
    "numbers = []\n",
    "\n",
    "# Get input from the user for 5 numbers\n",
    "for i in range(5):\n",
    "    number = float(input(f\"Enter number {i+1}: \"))\n",
    "    numbers.append(number)\n",
    "\n",
    "# Calculate the sum of the numbers\n",
    "sum_of_numbers = sum(numbers)\n",
    "\n",
    "# Find the largest and smallest numbers\n",
    "largest_number = max(numbers)\n",
    "smallest_number = min(numbers)\n",
    "\n",
    "# Print the results\n",
    "print(\"List of numbers:\", numbers)\n",
    "print(\"Sum of the numbers:\", sum_of_numbers)\n",
    "print(\"Largest number:\", largest_number)\n",
    "print(\"Smallest number:\", smallest_number)"
   ]
  },
  {
   "cell_type": "code",
   "execution_count": 29,
   "id": "172701d8-e508-4744-8327-71435384e14b",
   "metadata": {},
   "outputs": [],
   "source": [
    "#question 8"
   ]
  },
  {
   "cell_type": "code",
   "execution_count": 31,
   "id": "f613f4bf-7bd0-490d-8504-708ae222f46c",
   "metadata": {},
   "outputs": [
    {
     "name": "stdout",
     "output_type": "stream",
     "text": [
      "Updated fruit list: ['Apple', 'Cherry', 'Mango', 'Orange', 'Pineapple']\n"
     ]
    }
   ],
   "source": [
    "# List Manipulation \n",
    "# Create a list of favorite fruits \n",
    "fruits = [\"Apple\", \"Banana\", \"Cherry\", \"Mango\", \"Orange\"] \n",
    "# Add a new fruit \n",
    "fruits.append(\"Pineapple\") \n",
    "# Remove the second fruit \n",
    "fruits.pop(1) \n",
    "# Display the updated list \n",
    "print(f\"Updated fruit list: {fruits}\")"
   ]
  },
  {
   "cell_type": "code",
   "execution_count": 33,
   "id": "9f44515d-5495-4294-b56f-f9f21f577467",
   "metadata": {},
   "outputs": [],
   "source": [
    "#question 9"
   ]
  },
  {
   "cell_type": "code",
   "execution_count": 35,
   "id": "3a3f334b-148d-42d7-806b-8b0001efbb17",
   "metadata": {},
   "outputs": [
    {
     "name": "stdin",
     "output_type": "stream",
     "text": [
      "Enter number 1:  12\n",
      "Enter number 2:  34\n",
      "Enter number 3:  56\n",
      "Enter number 4:  67\n",
      "Enter number 5:  78\n"
     ]
    },
    {
     "name": "stdout",
     "output_type": "stream",
     "text": [
      "List in ascending order: [12.0, 34.0, 56.0, 67.0, 78.0]\n",
      "List in descending order: [78.0, 67.0, 56.0, 34.0, 12.0]\n"
     ]
    }
   ],
   "source": [
    "# Get input from the user for a list of 5 numbers\n",
    "numbers = []\n",
    "for i in range(5):\n",
    "    number = float(input(f\"Enter number {i+1}: \"))\n",
    "    numbers.append(number)\n",
    "\n",
    "# Sort the list in ascending order\n",
    "numbers_ascending = sorted(numbers)\n",
    "print(\"List in ascending order:\", numbers_ascending)\n",
    "\n",
    "# Sort the list in descending order\n",
    "numbers_descending = sorted(numbers, reverse=True)\n",
    "print(\"List in descending order:\", numbers_descending)"
   ]
  },
  {
   "cell_type": "code",
   "execution_count": 37,
   "id": "5cab6ec6-dfcd-4df4-adf1-039b9efdf384",
   "metadata": {},
   "outputs": [],
   "source": [
    "#question 10"
   ]
  },
  {
   "cell_type": "code",
   "execution_count": 39,
   "id": "cb4f960c-a988-4f59-99b6-da8e35281fb8",
   "metadata": {},
   "outputs": [
    {
     "name": "stdout",
     "output_type": "stream",
     "text": [
      "First 5 elements: [1, 2, 3, 4, 5]\n",
      "Last 5 elements: [6, 7, 8, 9, 10]\n",
      "Elements from index 2 to 7: [3, 4, 5, 6, 7, 8]\n"
     ]
    }
   ],
   "source": [
    "# List Slicing \n",
    "n = [1, 2, 3, 4, 5, 6, 7, 8, 9, 10] \n",
    "# Print the first 5 elements \n",
    "print(f\"First 5 elements: {n[:5]}\") \n",
    "# Print the last 5 elements \n",
    "print(f\"Last 5 elements: {n[-5:]}\") \n",
    "# Print elements from index 2 to index 7 \n",
    "print(f\"Elements from index 2 to 7: {n[2:8]}\")"
   ]
  },
  {
   "cell_type": "code",
   "execution_count": 41,
   "id": "698f9c23-b5d7-4218-8537-f9eaed6d8d70",
   "metadata": {},
   "outputs": [],
   "source": [
    "#question 11"
   ]
  },
  {
   "cell_type": "code",
   "execution_count": 43,
   "id": "d380271d-86b8-4bc6-88e4-0809cc8e863b",
   "metadata": {},
   "outputs": [
    {
     "name": "stdin",
     "output_type": "stream",
     "text": [
      "Enter the name of student 1:  uditha\n",
      "Enter score for subject 1 for uditha:  89\n",
      "Enter score for subject 2 for uditha:  90\n",
      "Enter score for subject 3 for uditha:  87\n",
      "Enter the name of student 2:  komali\n",
      "Enter score for subject 1 for komali:  76\n",
      "Enter score for subject 2 for komali:  89\n",
      "Enter score for subject 3 for komali:  88\n",
      "Enter the name of student 3:  swaroop\n",
      "Enter score for subject 1 for swaroop:  88\n",
      "Enter score for subject 2 for swaroop:  77\n",
      "Enter score for subject 3 for swaroop:  81\n"
     ]
    },
    {
     "name": "stdout",
     "output_type": "stream",
     "text": [
      "uditha's average score: 88.67\n",
      "komali's average score: 84.33\n",
      "swaroop's average score: 82.00\n"
     ]
    }
   ],
   "source": [
    "# Create an empty list to store student data\n",
    "student_data = []\n",
    "\n",
    "# Get input for 3 students\n",
    "for i in range(3):\n",
    "    name = input(f\"Enter the name of student {i+1}: \")\n",
    "    scores = []\n",
    "    for j in range(3):\n",
    "        score = float(input(f\"Enter score for subject {j+1} for {name}: \"))\n",
    "        scores.append(score)\n",
    "    student_data.append([name, scores])\n",
    "\n",
    "# Calculate and print average score for each student\n",
    "for student in student_data:\n",
    "    name = student[0]\n",
    "    scores = student[1]\n",
    "    average_score = sum(scores) / len(scores)\n",
    "    print(f\"{name}'s average score: {average_score:.2f}\")"
   ]
  },
  {
   "cell_type": "code",
   "execution_count": null,
   "id": "8778b700-13fc-4947-9da1-9d6ea6bc4b49",
   "metadata": {},
   "outputs": [],
   "source": []
  }
 ],
 "metadata": {
  "kernelspec": {
   "display_name": "Python 3 (ipykernel)",
   "language": "python",
   "name": "python3"
  },
  "language_info": {
   "codemirror_mode": {
    "name": "ipython",
    "version": 3
   },
   "file_extension": ".py",
   "mimetype": "text/x-python",
   "name": "python",
   "nbconvert_exporter": "python",
   "pygments_lexer": "ipython3",
   "version": "3.12.4"
  }
 },
 "nbformat": 4,
 "nbformat_minor": 5
}
